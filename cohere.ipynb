{
  "nbformat": 4,
  "nbformat_minor": 0,
  "metadata": {
    "colab": {
      "provenance": [],
      "authorship_tag": "ABX9TyOqv7oyStWSuRijj+WyDO1J"
    },
    "kernelspec": {
      "name": "python3",
      "display_name": "Python 3"
    },
    "language_info": {
      "name": "python"
    }
  },
  "cells": [
    {
      "cell_type": "code",
      "execution_count": null,
      "metadata": {
        "id": "YBOi9DaN0mQT"
      },
      "outputs": [],
      "source": [
        "import cohere\n",
        "co = cohere.Client('ZRuMBg7pIZqXoLt9eQ527RluAWLTcpGN75y45eaC') # This is your trial API key\n",
        "response = co.generate(\n",
        "  model='command-xlarge-nightly',\n",
        "  prompt='Write 5 titles for a blog ideas for the keywords \\\"large language model\\\" or \\\"text generation\\\"',\n",
        "  max_tokens=300,\n",
        "  temperature=0.9,\n",
        "  k=0,\n",
        "  p=0.75,\n",
        "  frequency_penalty=0,\n",
        "  presence_penalty=0,\n",
        "  stop_sequences=[],\n",
        "  return_likelihoods='NONE')\n",
        "print('Prediction: {}'.format(response.generations[0].text))"
      ]
    }
  ]
}