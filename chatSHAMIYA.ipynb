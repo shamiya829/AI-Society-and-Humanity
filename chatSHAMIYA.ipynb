{
  "nbformat": 4,
  "nbformat_minor": 0,
  "metadata": {
    "colab": {
      "provenance": [],
      "authorship_tag": "ABX9TyOrafqKeYmI3/UDQPhetvta",
      "include_colab_link": true
    },
    "kernelspec": {
      "name": "python3",
      "display_name": "Python 3"
    },
    "language_info": {
      "name": "python"
    }
  },
  "cells": [
    {
      "cell_type": "markdown",
      "metadata": {
        "id": "view-in-github",
        "colab_type": "text"
      },
      "source": [
        "<a href=\"https://colab.research.google.com/github/shamiya829/AI-Society-and-Humanity/blob/main/chatSHAMIYA.ipynb\" target=\"_parent\"><img src=\"https://colab.research.google.com/assets/colab-badge.svg\" alt=\"Open In Colab\"/></a>"
      ]
    },
    {
      "cell_type": "code",
      "execution_count": null,
      "metadata": {
        "id": "QwWi19JSU7c-"
      },
      "outputs": [],
      "source": [
        "# im still gathering data, but hopefully it will sound like you were talking to me and i, myself would like to test how goofy i have been in the past\n",
        "# likely going to be fine tuning chatgpt"
      ]
    }
  ]
}